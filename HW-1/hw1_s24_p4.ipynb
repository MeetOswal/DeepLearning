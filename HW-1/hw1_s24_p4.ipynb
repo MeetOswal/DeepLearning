{
 "cells": [
  {
   "cell_type": "markdown",
   "metadata": {
    "id": "CKRRjmhbFcx7"
   },
   "source": [
    "In this problem we will train a neural network from scratch using numpy. In practice, you will never need to do this (you'd just use TensorFlow or PyTorch). But hopefully this will give us a sense of what's happening under the hood. \n",
    "\n",
    "For training/testing, we will use the standard MNIST benchmark consisting of images of handwritten images. \n",
    "\n"
   ]
  },
  {
   "cell_type": "markdown",
   "metadata": {
    "id": "k0Zpyb4xQNu2"
   },
   "source": [
    "In the second demo, we worked with autodiff. Autodiff enables us to implicitly store how to calculate the gradient when we call backward. We implemented some basic operations (addition, multiplication, power, and ReLU). In this homework problem, you will implement backprop for more complicated operations directly. Instead of using autodiff, you will manually compute the gradient of the loss function for each parameter."
   ]
  },
  {
   "cell_type": "code",
   "execution_count": 34,
   "metadata": {
    "id": "kjvPSnDA4J_w"
   },
   "outputs": [
    {
     "data": {
      "image/png": "[encoded data removed]",
      "text/plain": [
       "<Figure size 640x480 with 1 Axes>"
      ]
     },
     "metadata": {},
     "output_type": "display_data"
    }
   ],
   "source": [
    "import tensorflow as tf\n",
    "import matplotlib.pyplot as plt\n",
    "\n",
    "(x_train, y_train), (x_test, y_test) = tf.keras.datasets.mnist.load_data(path=\"mnist.npz\")\n",
    "\n",
    "plt.imshow(x_train[0],cmap='gray');"
   ]
  },
  {
   "cell_type": "markdown",
   "metadata": {
    "id": "Klx9qPmxF9jI"
   },
   "source": [
    "Loading MNIST is the only place where we will use TensorFlow; the rest of the code will be pure numpy.\n",
    "\n",
    "Let us now set up a few helper functions. We will use sigmoid activations for neurons, the softmax activation for the last layer, and the cross entropy loss."
   ]
  },
  {
   "cell_type": "code",
   "execution_count": 35,
   "metadata": {
    "id": "sdyvaUKoF7ux"
   },
   "outputs": [],
   "source": [
    "import numpy as np\n",
    "\n",
    "def sigmoid(x):\n",
    "  # Numerically stable sigmoid function based on\n",
    "  # http://timvieira.github.io/blog/post/2014/02/11/exp-normalize-trick/\n",
    "  \n",
    "  x = np.clip(x, -500, 500) # We get an overflow warning without this\n",
    "  \n",
    "  return np.where(\n",
    "    x >= 0,\n",
    "    1 / (1 + np.exp(-x)),\n",
    "    np.exp(x) / (1 + np.exp(x))\n",
    "  )\n",
    "\n",
    "def dsigmoid(x): # Derivative of sigmoid\n",
    "  return sigmoid(x) * (1 - sigmoid(x))\n",
    "\n",
    "def softmax(x):\n",
    "  # Numerically stable softmax based on (same source as sigmoid)\n",
    "  # http://timvieira.github.io/blog/post/2014/02/11/exp-normalize-trick/\n",
    "  b = x.max()\n",
    "  y = np.exp(x - b)\n",
    "  return y / y.sum()\n",
    "\n",
    "def cross_entropy_loss(y, yHat):\n",
    "  return -np.sum(y * np.log(yHat))\n",
    "\n",
    "def integer_to_one_hot(x, max):\n",
    "  # x: integer to convert to one hot encoding\n",
    "  # max: the size of the one hot encoded array\n",
    "  result = np.zeros(10)\n",
    "  result[x] = 1\n",
    "  return result"
   ]
  },
  {
   "cell_type": "markdown",
   "metadata": {
    "id": "_xIZEupTHyNM"
   },
   "source": [
    "OK, we are now ready to build and train our model. The input is an image of size 28x28, and the output is one of 10 classes. So, first: \n",
    "\n",
    "Q1. Initialize a 2-hidden layer neural network with 32 neurons in each hidden layer, i.e., your layer sizes should be: \n",
    "\n",
    "784 -> 32 -> 32 -> 10\n",
    "\n",
    "If the layer is $n_{in} \\times n_{out}$ your layer weights should be initialized by sampling from a normal distribution with mean zero and variance 1/$\\max(n_{in},n_{out})$."
   ]
  },
  {
   "cell_type": "markdown",
   "metadata": {},
   "source": [
    "In the Below Code we initalize weights and biases for the Neural Netowork:\n",
    "-We first define the layer size for each layer\n",
    "-The weights are intialized such that the initalization is from a normal distribution with zero mean and variance of $1/ max(n_{in}, n_{out})$\n",
    "- The size of each weight matrix is (size of input layer, size of output layer) for example: weight matrix which connects input to 1st hidden layer: (32, 784)\n",
    "- The size of each bias matrix is (size of the output layer, 1) for example: bias matrix which connects input to 1st hidden layer: (32, 1)"
   ]
  },
  {
   "cell_type": "code",
   "execution_count": 36,
   "metadata": {
    "id": "zBeGvbu6FaM_"
   },
   "outputs": [
    {
     "name": "stdout",
     "output_type": "stream",
     "text": [
      "Layer 1:\n",
      "Weights shape: (32, 784)\n",
      "Biases shape: (32, 1)\n",
      "\n",
      "Layer 2:\n",
      "Weights shape: (32, 32)\n",
      "Biases shape: (32, 1)\n",
      "\n",
      "Layer 3:\n",
      "Weights shape: (10, 32)\n",
      "Biases shape: (10, 1)\n",
      "\n",
      "Layer: 1\n",
      "(32, 784)\n",
      "Layer: 2\n",
      "(32, 32)\n",
      "Layer: 3\n",
      "(10, 32)\n"
     ]
    }
   ],
   "source": [
    "import math\n",
    "\n",
    "# Initialize weights of each layer with a normal distribution of mean 0 and\n",
    "# standard deviation 1/sqrt(n), where n is the number of inputs.\n",
    "# This means the weighted input will be a random variable itself with mean\n",
    "# 0 and standard deviation close to 1 (if biases are initialized as 0, standard\n",
    "# deviation will be exactly 1)\n",
    "\n",
    "from numpy.random import default_rng\n",
    "\n",
    "rng = default_rng(80085)\n",
    "# Define the sizes of the layers in the neural network\n",
    "layer_sizes = [784, 32, 32, 10]\n",
    "\n",
    "# Initialize weights and biases for each layer\n",
    "weights = [] # List to store weight matrices for each layer\n",
    "biases = []    # List to store bias vectors for each layer\n",
    "\n",
    "# Loop through each layer (except the output layer)\n",
    "for i in range(len(layer_sizes) - 1):\n",
    "    # Initialize weights\n",
    "    weight_shape = (layer_sizes[i+1], layer_sizes[i])  # Define the shape of the weight matrix\n",
    "    weight_variance = 1.0 / np.sqrt(max(weight_shape))  # He initialization for weights\n",
    "    weight_values = np.random.normal(loc=0.0, scale=weight_variance, size=weight_shape)\n",
    "    weights.append(weight_values)  # Add the weight matrix to the list of weights\n",
    "\n",
    "    # Initialize biases\n",
    "    bias_shape = (layer_sizes[i+1], 1) # Define the shape of the bias vector\n",
    "    bias_values = np.zeros(bias_shape)  # Initialize biases to zero\n",
    "    biases.append(bias_values)  # Add the bias vector to the list of biases\n",
    "\n",
    "# Display the initialized weights and biases\n",
    "for i, (w, b) in enumerate(zip(weights, biases), 1):\n",
    "    print(f\"Layer {i}:\")\n",
    "    print(f\"Weights shape: {w.shape}\") # Display the shape of the weight matrix\n",
    "    print(f\"Biases shape: {b.shape}\")  # Display the shape of the bias vector\n",
    "    print()\n",
    "\n",
    "for i in range(len(weights)):\n",
    "    print(f\"Layer: {i + 1}\")\n",
    "    print(weights[i].shape)"
   ]
  },
  {
   "cell_type": "markdown",
   "metadata": {
    "id": "IafUGD_VGeLh"
   },
   "source": [
    "Next, we will set up the forward pass. We will implement this by looping over the layers and successively computing the activations of each layer. \n",
    "\n",
    "Q2. Implement the forward pass for a single sample, and for the entire dataset.\n",
    "\n",
    "\n",
    "Right now, your network weights should be random, so doing a forward pass with the data should not give you any meaningful information. Therefore, in the last line, when you calculate test accuracy, it should be somewhere around 1/10 (i.e., a random guess)."
   ]
  },
  {
   "cell_type": "markdown",
   "metadata": {},
   "source": [
    "Below function of one_hot_softmax is a function which takes the ouptput given by the neural network as the input and outputs an array of 0s and 1 which has the max probability in the original input to the function.\n",
    "example:\n",
    "input: [0.2, 0.6, 0.2, 0.0, 0.0, 0.0, 0.0, 0.0, 0.0, 0.0]\n",
    "output: [0, 1, 0, 0, 0, 0, 0, 0, 0, 0]"
   ]
  },
  {
   "cell_type": "code",
   "execution_count": 37,
   "metadata": {},
   "outputs": [],
   "source": [
    "def one_hot_softmax(softmax_output):\n",
    "    \n",
    "    # Create one-hot encoding\n",
    "    max_indices = np.argmax(softmax_output)\n",
    "    one_hot_output = np.zeros_like(softmax_output)\n",
    "    one_hot_output[max_indices] = 1\n",
    "    \n",
    "    return one_hot_output"
   ]
  },
  {
   "cell_type": "markdown",
   "metadata": {},
   "source": [
    "The feed_forward_sample:\n",
    "This function takes a sample image and its actual label. It flattens the image into a array and inputs it into the neural netowork.\n",
    "The for loop iterates over all the layers of the network and compute values on each layer using previously defined weights and bias and use sigmoid activation function for all layers accept last layer.\n",
    "The last layer has the activation function of softmax.\n",
    "Finaly we calcualte the loss as cross entropy loss and we return the prediction for the given array\n",
    "\n",
    "\n"
   ]
  },
  {
   "cell_type": "markdown",
   "metadata": {},
   "source": [
    "Feed Forward Dataset function:\n",
    "a for loop is run over all example and each example is send to the feed forward sample function with its actual label "
   ]
  },
  {
   "cell_type": "code",
   "execution_count": 38,
   "metadata": {
    "id": "cd6jGroQGdOF"
   },
   "outputs": [
    {
     "name": "stdout",
     "output_type": "stream",
     "text": [
      "Feeding forward all test data...\n",
      "\n",
      "Average loss: 2.36\n",
      "Accuracy (# of correct guesses): 808.0 / 10000 ( 8.08 %)\n",
      "\n"
     ]
    }
   ],
   "source": [
    "def feed_forward_sample(sample, y):\n",
    "  \"\"\" Forward pass through the neural network.\n",
    "    Inputs:\n",
    "      sample: 1D numpy array. The input sample (an MNIST digit).\n",
    "      label: An integer from 0 to 9.\n",
    "\n",
    "    Returns: the cross entropy loss, most likely class\n",
    "  \"\"\"\n",
    "     # Reshape the input sample into a column vector\n",
    "  sample = np.array(sample.flatten()).reshape(784, 1)\n",
    "  a = {1: sample} # Initialize the activation dictionary with the input sample\n",
    "  z = {}  # Initialize the dictionary to store the weighted inputs\n",
    "     # Forward pass through the network\n",
    "  for l in range(1, len(weights)):\n",
    "      node_in = a[l]\n",
    "      # Compute the weighted inputs for each layer and apply the activation function\n",
    "      z[l + 1] =  weights[l - 1].dot(node_in) + biases[l - 1]\n",
    "      a[l + 1] = sigmoid(z[l + 1])\n",
    " # Output layer calculations\n",
    "  z[4] = weights[2].dot(a[3]) + biases[2]\n",
    "  a[4] = softmax(z[4])\n",
    "# Convert the true label 'y' into a one-hot encoded vector\n",
    "  y = integer_to_one_hot(y, 10)\n",
    "    # Compute the cross-entropy loss between the predicted and true labels\n",
    "  loss = cross_entropy_loss(y, a[4].flatten()) \n",
    "    # Extract the output of the softmax layer (most likely class probabilities)\n",
    "  one_hot_guess = a[4].flatten()\n",
    "    # Convert the softmax output into a one-hot representation\n",
    "  one_hot_output = one_hot_softmax(one_hot_guess)\n",
    "  return loss, one_hot_output\n",
    "\n",
    "\n",
    "def feed_forward_dataset(x, y):\n",
    "  losses = np.empty(x.shape[0])\n",
    "  one_hot_guesses = np.empty((x.shape[0], 10))\n",
    "\n",
    "  for i in range(len(x)):\n",
    "      losses[i] , one_hot_guesses[i]= feed_forward_sample(x[i] , y[i])\n",
    "\n",
    "  y_one_hot = np.zeros((y.size, 10))\n",
    "  y_one_hot[np.arange(y.size), y] = 1\n",
    "    \n",
    "  correct_guesses = np.sum(y_one_hot * one_hot_guesses)\n",
    "  correct_guess_percent = format((correct_guesses / y.shape[0]) * 100, \".2f\")  \n",
    "\n",
    "  print(\"\\nAverage loss:\", np.round(np.average(losses), decimals=2))\n",
    "  print(\"Accuracy (# of correct guesses):\", correct_guesses, \"/\", y.shape[0], \"(\", correct_guess_percent, \"%)\")\n",
    "\n",
    "def feed_forward_training_data():\n",
    "  print(\"Feeding forward all training data...\")\n",
    "  feed_forward_dataset(x_train, y_train)\n",
    "  print(\"\")\n",
    "\n",
    "def feed_forward_test_data():\n",
    "  print(\"Feeding forward all test data...\")\n",
    "  feed_forward_dataset(x_test, y_test)\n",
    "  print(\"\")\n",
    "\n",
    "feed_forward_test_data()"
   ]
  },
  {
   "cell_type": "markdown",
   "metadata": {
    "id": "sSrlc2VLOi8L"
   },
   "source": [
    "OK, now we will implement the backward pass using backpropagation. We will keep it simple and just do training sample-by-sample (no minibatching, no randomness).\n",
    "\n",
    "Q3: Compute the gradient of all the weights and biases by backpropagating derivatives all the way from the output to the first layer. \n",
    "\n",
    "\n",
    "\n"
   ]
  },
  {
   "cell_type": "markdown",
   "metadata": {},
   "source": [
    "init_tri_values function:\n",
    "This function is used to initlaize the change is weights and biases. THe initialization is array of zeros and same size as previously initalized weights and biases."
   ]
  },
  {
   "cell_type": "markdown",
   "metadata": {},
   "source": [
    "calculate_out_layer_delta function: This function caluclate the delta for the output layer. Delta can aslo be said as the diffenriation of y with respect to z."
   ]
  },
  {
   "cell_type": "markdown",
   "metadata": {},
   "source": [
    "calculate_hidden_delta: This function calculate the delta for hidden layer. This delta depends on the delta from the next layer, weight and z value of the current layer."
   ]
  },
  {
   "cell_type": "code",
   "execution_count": 39,
   "metadata": {},
   "outputs": [],
   "source": [
    "def init_tri_values(nn_structure):\n",
    "    tri_W = {}\n",
    "    tri_b = {}\n",
    "    for l in range(0, len(nn_structure) - 1):\n",
    "        tri_W[l] = np.zeros((nn_structure[l+1], nn_structure[l]))\n",
    "        tri_b[l] = np.zeros((nn_structure[l+1], 1))\n",
    "    return tri_W, tri_b\n",
    "\n",
    "def calculate_out_layer_delta(y, a_out, z_out):\n",
    "    # delta^(nl) = -(y_i - a_i^(nl)) * f'(z_i^(nl))\n",
    "    return -(y-a_out) * dsigmoid(z_out) \n",
    "\n",
    "\n",
    "def calculate_hidden_delta(delta_plus_1, w_l, z_l):\n",
    "    # delta^(l) = (transpose(W^(l)) * delta^(l+1)) * f'(z^(l))\n",
    "    return w_l.T.dot(delta_plus_1) * dsigmoid(z_l)"
   ]
  },
  {
   "cell_type": "markdown",
   "metadata": {},
   "source": [
    "Below code is a algorithm of backpropogation using gradient descent. we first calcualte the forward pass prediction and based on the prediction and actual label, we calcualte output layer delta and loop it backwards to get all the change in weights and biases and deltas for each layer. After the loop we update the weights and biases."
   ]
  },
  {
   "cell_type": "code",
   "execution_count": 40,
   "metadata": {
    "id": "BLLEsVdcOgzi"
   },
   "outputs": [],
   "source": [
    "def train_one_sample(sample, y, learning_rate=0.003):\n",
    "    # Flatten the input sample and reshape it into a column vector\n",
    "  sample = np.array(sample.flatten()).reshape(784, 1)\n",
    "  a = {1: sample} # Initialize the activation dictionary with the input sample\n",
    "  z = {} # Initialize the dictionary to store the weighted inputs\n",
    "  delta = {}\n",
    "  for l in range(1, len(weights)):\n",
    "      node_in = a[l]\n",
    "       # Calculate the weighted inputs for each layer and apply the activation function\n",
    "      z[l + 1] =  weights[l - 1].dot(node_in) + biases[l - 1]\n",
    "      a[l + 1] = sigmoid(z[l + 1])\n",
    "    # Output layer calculations  \n",
    "  z[4] = weights[2].dot(a[3]) + biases[2]\n",
    "  a[4] = softmax(z[4])\n",
    "  # Convert the true label 'y' into a one-hot encoded vector\n",
    "  y = (integer_to_one_hot(y, 10)).reshape(10,1)\n",
    "  loss = cross_entropy_loss(y, a[4])    # Compute the cross-entropy loss between the predicted and true labels\n",
    "  yHat = a[4]\n",
    "\n",
    "  \n",
    "  # Backward pass\n",
    "  tri_W, tri_b = init_tri_values(layer_sizes) # Initialize the gradients for weights and biases\n",
    "  for l in range(len(layer_sizes), 0, -1): # Iterate through the layers in reverse order\n",
    "      if l == len(layer_sizes):\n",
    "           # Calculate the error at the output layer\n",
    "          delta[l] = calculate_out_layer_delta(y, a[l], z[l])\n",
    "      else:\n",
    "          if l > 1:\n",
    "               # Calculate the error for hidden layers\n",
    "              delta[l] = calculate_hidden_delta(delta[l + 1], weights[l - 1], z[l])\n",
    "               # Accumulate gradients for weights and biases\n",
    "          tri_W[l - 1] += delta[l+1].dot(a[l].T)\n",
    "          tri_b[l - 1] += delta[l + 1]\n",
    " # Update weights and biases using gradient descent\n",
    "  for l in range(len(weights), 1 , -1):\n",
    "      weights[l - 1] += -learning_rate * (tri_W[l - 1])\n",
    "      biases[l - 1] += -learning_rate * (tri_b[l - 1])\n",
    "\n",
    "  return weights, biases\n",
    "    \n"
   ]
  },
  {
   "cell_type": "markdown",
   "metadata": {
    "id": "6AXY27pOB9cW"
   },
   "source": [
    "Finally, train for 3 epochs by looping over the entire training dataset 3 times.\n",
    "\n",
    "Q4. Train your model for 3 epochs."
   ]
  },
  {
   "cell_type": "markdown",
   "metadata": {},
   "source": [
    "Below code calls the above train example code to train over all training example and get a near optimal weights and biases values which are then test on the test dataset and this porcess continues for 3 epochs. "
   ]
  },
  {
   "cell_type": "code",
   "execution_count": null,
   "metadata": {
    "id": "8Ygk05FcB-rL"
   },
   "outputs": [
    {
     "name": "stdout",
     "output_type": "stream",
     "text": [
      "Feeding forward all test data...\n",
      "\n",
      "Average loss: 2.36\n",
      "Accuracy (# of correct guesses): 808.0 / 10000 ( 8.08 %)\n",
      "\n",
      "*************************************************\n",
      "\n",
      "Training for one epoch over the training dataset...\n"
     ]
    }
   ],
   "source": [
    "def train_one_epoch(learning_rate=0.003):\n",
    "  print(\"*************************************************\\n\")\n",
    "  print(\"Training for one epoch over the training dataset...\")\n",
    "   # Loop over the entire training dataset and train each sample\n",
    "  # Q4. Write the training loop over the epoch here.\n",
    "  # ...\n",
    "  for j in range(len(x_train)):\n",
    "     train_one_sample(x_train[j], y_train[j])\n",
    "          \n",
    "  print(\"Finished training.\\n\")\n",
    "# Function to perform forward pass on the test dataset\n",
    "feed_forward_test_data()\n",
    "# Function to perform testing and training\n",
    "def test_and_train():\n",
    "    # Train the model for one epoch\n",
    "  train_one_epoch()\n",
    "    # Perform forward pass on the test data\n",
    "  feed_forward_test_data()\n",
    "# Perform testing and training for a certain number of epochs\n",
    "for i in range(3): \n",
    "  test_and_train()"
   ]
  },
  {
   "cell_type": "markdown",
   "metadata": {},
   "source": [
    "As Seen above the loss decreases after each epoch and the correct predciton increases after each epoch whihch signifies that our neural network is working properly"
   ]
  },
  {
   "cell_type": "markdown",
   "metadata": {
    "id": "IKzEn_lyCAIe"
   },
   "source": [
    "\n",
    "That's it! \n",
    "\n",
    "Your code is probably very time- and memory-inefficient; that's ok. There is a ton of optimization under the hood in professional deep learning frameworks which we won't get into.\n",
    "\n",
    "If everything is working well, you should be able to raise the accuracy from ~10% to ~70% accuracy after 3 epochs."
   ]
  },
  {
   "cell_type": "markdown",
   "metadata": {
    "id": "5HG1KMF2-Jxy"
   },
   "source": [
    "\n",
    "**Attributes & Values for Satyrium spini (Spine Hairstreak):**\n",
    "\n",
    "- **Name**: Satyrium spini (Spine Hairstreak) \n",
    "- **Wingspan**: 1.5 to 2 inches (3.8 to 5.1 cm) \n",
    "- **Color**: Dark brown or black with blue and orange markings \n",
    "- **Underside of Wings**: Mottled brown with orange and white markings \n",
    "- **Distinctive Features**: Spine-like projection at the end of the hind wing \n",
    "- **Habitat**: Forests, fields, and gardens \n",
    "- **Nectar Sources**: Variety of flowers \n",
    "- **Attracted to**: Bright, open areas"
   ]
  }
 ],
 "metadata": {
  "colab": {
   "provenance": []
  },
  "kernelspec": {
   "display_name": "Python 3 (ipykernel)",
   "language": "python",
   "name": "python3"
  },
  "language_info": {
   "codemirror_mode": {
    "name": "ipython",
    "version": 3
   },
   "file_extension": ".py",
   "mimetype": "text/x-python",
   "name": "python",
   "nbconvert_exporter": "python",
   "pygments_lexer": "ipython3",
   "version": "3.10.13"
  }
 },
 "nbformat": 4,
 "nbformat_minor": 4
}
